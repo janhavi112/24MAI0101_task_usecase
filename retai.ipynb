{
  "nbformat": 4,
  "nbformat_minor": 0,
  "metadata": {
    "colab": {
      "provenance": []
    },
    "kernelspec": {
      "name": "python3",
      "display_name": "Python 3"
    },
    "language_info": {
      "name": "python"
    }
  },
  "cells": [
    {
      "cell_type": "code",
      "execution_count": null,
      "metadata": {
        "id": "REgjA399TAW-"
      },
      "outputs": [],
      "source": [
        "import pandas as pd\n",
        "\n",
        "# Data for Branch 1\n",
        "data_branch1 = {\n",
        "    'Branch': ['Branch 1', 'Branch 1', 'Branch 1'],\n",
        "    'Product': ['Product A', 'Product B', 'Product C'],\n",
        "    'Sales': [150, 200, 250],\n",
        "    'Date': ['2024-01-10', '2024-01-11', '2024-01-12']\n",
        "}\n",
        "\n",
        "# Convert to DataFrame and save as CSV\n",
        "df_branch1 = pd.DataFrame(data_branch1)\n",
        "df_branch1.to_csv('branch1_sales.csv', index=False)\n"
      ]
    },
    {
      "cell_type": "code",
      "source": [
        "import json\n",
        "\n",
        "# Data for Branch 2\n",
        "data_branch2 = [\n",
        "    {\"Branch\": \"Branch 2\", \"Product\": \"Product A\", \"Sales\": 180, \"Date\": \"2024-01-10\"},\n",
        "    {\"Branch\": \"Branch 2\", \"Product\": \"Product B\", \"Sales\": 220, \"Date\": \"2024-01-11\"},\n",
        "    {\"Branch\": \"Branch 2\", \"Product\": \"Product C\", \"Sales\": 260, \"Date\": \"2024-01-12\"}\n",
        "]\n",
        "\n",
        "# Save as JSON\n",
        "with open('branch2_sales.json', 'w') as json_file:\n",
        "    json.dump(data_branch2, json_file, indent=4)"
      ],
      "metadata": {
        "id": "F0kGIQT3Tbmd"
      },
      "execution_count": null,
      "outputs": []
    },
    {
      "cell_type": "code",
      "source": [
        "# Data for Branch 3\n",
        "data_branch3 = {\n",
        "    'Branch': ['Branch 3', 'Branch 3', 'Branch 3'],\n",
        "    'Product': ['Product A', 'Product B', 'Product C'],\n",
        "    'Sales': [170, 210, 270],\n",
        "    'Date': ['2024-01-10', '2024-01-11', '2024-01-12']\n",
        "}\n",
        "\n",
        "# Convert to DataFrame and save as Excel\n",
        "df_branch3 = pd.DataFrame(data_branch3)\n",
        "df_branch3.to_excel('branch3_sales.xlsx', index=False)\n"
      ],
      "metadata": {
        "id": "pTK5eb7GTe5m"
      },
      "execution_count": null,
      "outputs": []
    },
    {
      "cell_type": "code",
      "source": [
        "# Ingest CSV\n",
        "csv_data = pd.read_csv('branch1_sales.csv')\n",
        "\n",
        "# Ingest JSON\n",
        "json_data = pd.read_json('branch2_sales.json')\n",
        "\n",
        "# Ingest Excel\n",
        "excel_data = pd.read_excel('branch3_sales.xlsx')\n",
        "\n",
        "# Check the first few rows to ensure successful ingestion\n",
        "print(csv_data.head())\n",
        "print(json_data.head())\n",
        "print(excel_data.head())\n"
      ],
      "metadata": {
        "colab": {
          "base_uri": "https://localhost:8080/"
        },
        "id": "JDTIMTKmTh6_",
        "outputId": "80a6cb7f-4585-4834-8eea-994bd34ea4fd"
      },
      "execution_count": null,
      "outputs": [
        {
          "output_type": "stream",
          "name": "stdout",
          "text": [
            "     Branch    Product  Sales        Date\n",
            "0  Branch 1  Product A    150  2024-01-10\n",
            "1  Branch 1  Product B    200  2024-01-11\n",
            "2  Branch 1  Product C    250  2024-01-12\n",
            "     Branch    Product  Sales       Date\n",
            "0  Branch 2  Product A    180 2024-01-10\n",
            "1  Branch 2  Product B    220 2024-01-11\n",
            "2  Branch 2  Product C    260 2024-01-12\n",
            "     Branch    Product  Sales        Date\n",
            "0  Branch 3  Product A    170  2024-01-10\n",
            "1  Branch 3  Product B    210  2024-01-11\n",
            "2  Branch 3  Product C    270  2024-01-12\n"
          ]
        }
      ]
    },
    {
      "cell_type": "code",
      "source": [
        "# Handling Missing Values: Fill or drop missing values.\n",
        "# Fill missing values with 0 or a specific value\n",
        "for df in [csv_data, json_data, excel_data]:\n",
        "    df.fillna(0, inplace=True)"
      ],
      "metadata": {
        "id": "ciUvJHJSTmk9"
      },
      "execution_count": null,
      "outputs": []
    },
    {
      "cell_type": "code",
      "source": [
        "[print(df.isnull().sum()) for df in [csv_data, json_data, excel_data]]"
      ],
      "metadata": {
        "colab": {
          "base_uri": "https://localhost:8080/"
        },
        "id": "rS3OkNN7Tql_",
        "outputId": "5b459fed-b354-4991-c08a-31766863ffc8"
      },
      "execution_count": null,
      "outputs": [
        {
          "output_type": "stream",
          "name": "stdout",
          "text": [
            "Branch     0\n",
            "Product    0\n",
            "Sales      0\n",
            "Date       0\n",
            "dtype: int64\n",
            "Branch     0\n",
            "Product    0\n",
            "Sales      0\n",
            "Date       0\n",
            "dtype: int64\n",
            "Branch     0\n",
            "Product    0\n",
            "Sales      0\n",
            "Date       0\n",
            "dtype: int64\n"
          ]
        },
        {
          "output_type": "execute_result",
          "data": {
            "text/plain": [
              "[None, None, None]"
            ]
          },
          "metadata": {},
          "execution_count": 7
        }
      ]
    },
    {
      "cell_type": "code",
      "source": [
        "[print(df.nunique()) for df in [csv_data, json_data, excel_data]]"
      ],
      "metadata": {
        "colab": {
          "base_uri": "https://localhost:8080/"
        },
        "id": "eKodeaJJTt8P",
        "outputId": "b5e02b65-49ad-4415-a3db-d8a1006e6205"
      },
      "execution_count": null,
      "outputs": [
        {
          "output_type": "stream",
          "name": "stdout",
          "text": [
            "Branch     1\n",
            "Product    3\n",
            "Sales      3\n",
            "Date       3\n",
            "dtype: int64\n",
            "Branch     1\n",
            "Product    3\n",
            "Sales      3\n",
            "Date       3\n",
            "dtype: int64\n",
            "Branch     1\n",
            "Product    3\n",
            "Sales      3\n",
            "Date       3\n",
            "dtype: int64\n"
          ]
        },
        {
          "output_type": "execute_result",
          "data": {
            "text/plain": [
              "[None, None, None]"
            ]
          },
          "metadata": {},
          "execution_count": 8
        }
      ]
    },
    {
      "cell_type": "code",
      "source": [
        "for df in [csv_data, json_data, excel_data]:\n",
        "    df['Sales'] = pd.to_numeric(df['Sales'], errors='coerce')\n",
        "\n",
        "for df in [csv_data, json_data, excel_data]:\n",
        "    df['Date'] = pd.to_datetime(df['Date'], errors='coerce')"
      ],
      "metadata": {
        "id": "ibVXqeteTyhx"
      },
      "execution_count": null,
      "outputs": []
    },
    {
      "cell_type": "code",
      "source": [
        "df.reset_index(drop=True, inplace=True)\n"
      ],
      "metadata": {
        "id": "_dYgYpDcT3Ci"
      },
      "execution_count": null,
      "outputs": []
    },
    {
      "cell_type": "code",
      "source": [
        "# Concatenate all data into one DataFrame\n",
        "combined_data_of_3_formats = pd.concat([csv_data, json_data, excel_data])\n",
        "\n",
        "# Drop duplicate rows if necessary\n",
        "combined_data_of_3_formats.drop_duplicates(inplace=True)\n",
        "\n",
        "# Check the final data\n",
        "print(combined_data_of_3_formats.head())\n"
      ],
      "metadata": {
        "colab": {
          "base_uri": "https://localhost:8080/"
        },
        "id": "SczyNCXmT59A",
        "outputId": "fa910a47-c155-441d-dc0e-a7ce0f8803a5"
      },
      "execution_count": null,
      "outputs": [
        {
          "output_type": "stream",
          "name": "stdout",
          "text": [
            "     Branch    Product  Sales       Date\n",
            "0  Branch 1  Product A    150 2024-01-10\n",
            "1  Branch 1  Product B    200 2024-01-11\n",
            "2  Branch 1  Product C    250 2024-01-12\n",
            "0  Branch 2  Product A    180 2024-01-10\n",
            "1  Branch 2  Product B    220 2024-01-11\n"
          ]
        }
      ]
    },
    {
      "cell_type": "code",
      "source": [
        "combined_data_of_3_formats"
      ],
      "metadata": {
        "colab": {
          "base_uri": "https://localhost:8080/",
          "height": 331
        },
        "id": "bohvShJxT9J_",
        "outputId": "d517b4fe-d0f9-4612-e9ce-198974132259"
      },
      "execution_count": null,
      "outputs": [
        {
          "output_type": "execute_result",
          "data": {
            "text/plain": [
              "     Branch    Product  Sales       Date\n",
              "0  Branch 1  Product A    150 2024-01-10\n",
              "1  Branch 1  Product B    200 2024-01-11\n",
              "2  Branch 1  Product C    250 2024-01-12\n",
              "0  Branch 2  Product A    180 2024-01-10\n",
              "1  Branch 2  Product B    220 2024-01-11\n",
              "2  Branch 2  Product C    260 2024-01-12\n",
              "0  Branch 3  Product A    170 2024-01-10\n",
              "1  Branch 3  Product B    210 2024-01-11\n",
              "2  Branch 3  Product C    270 2024-01-12"
            ],
            "text/html": [
              "\n",
              "  <div id=\"df-42a8b880-f5a6-4862-bf7f-29393c682bc2\" class=\"colab-df-container\">\n",
              "    <div>\n",
              "<style scoped>\n",
              "    .dataframe tbody tr th:only-of-type {\n",
              "        vertical-align: middle;\n",
              "    }\n",
              "\n",
              "    .dataframe tbody tr th {\n",
              "        vertical-align: top;\n",
              "    }\n",
              "\n",
              "    .dataframe thead th {\n",
              "        text-align: right;\n",
              "    }\n",
              "</style>\n",
              "<table border=\"1\" class=\"dataframe\">\n",
              "  <thead>\n",
              "    <tr style=\"text-align: right;\">\n",
              "      <th></th>\n",
              "      <th>Branch</th>\n",
              "      <th>Product</th>\n",
              "      <th>Sales</th>\n",
              "      <th>Date</th>\n",
              "    </tr>\n",
              "  </thead>\n",
              "  <tbody>\n",
              "    <tr>\n",
              "      <th>0</th>\n",
              "      <td>Branch 1</td>\n",
              "      <td>Product A</td>\n",
              "      <td>150</td>\n",
              "      <td>2024-01-10</td>\n",
              "    </tr>\n",
              "    <tr>\n",
              "      <th>1</th>\n",
              "      <td>Branch 1</td>\n",
              "      <td>Product B</td>\n",
              "      <td>200</td>\n",
              "      <td>2024-01-11</td>\n",
              "    </tr>\n",
              "    <tr>\n",
              "      <th>2</th>\n",
              "      <td>Branch 1</td>\n",
              "      <td>Product C</td>\n",
              "      <td>250</td>\n",
              "      <td>2024-01-12</td>\n",
              "    </tr>\n",
              "    <tr>\n",
              "      <th>0</th>\n",
              "      <td>Branch 2</td>\n",
              "      <td>Product A</td>\n",
              "      <td>180</td>\n",
              "      <td>2024-01-10</td>\n",
              "    </tr>\n",
              "    <tr>\n",
              "      <th>1</th>\n",
              "      <td>Branch 2</td>\n",
              "      <td>Product B</td>\n",
              "      <td>220</td>\n",
              "      <td>2024-01-11</td>\n",
              "    </tr>\n",
              "    <tr>\n",
              "      <th>2</th>\n",
              "      <td>Branch 2</td>\n",
              "      <td>Product C</td>\n",
              "      <td>260</td>\n",
              "      <td>2024-01-12</td>\n",
              "    </tr>\n",
              "    <tr>\n",
              "      <th>0</th>\n",
              "      <td>Branch 3</td>\n",
              "      <td>Product A</td>\n",
              "      <td>170</td>\n",
              "      <td>2024-01-10</td>\n",
              "    </tr>\n",
              "    <tr>\n",
              "      <th>1</th>\n",
              "      <td>Branch 3</td>\n",
              "      <td>Product B</td>\n",
              "      <td>210</td>\n",
              "      <td>2024-01-11</td>\n",
              "    </tr>\n",
              "    <tr>\n",
              "      <th>2</th>\n",
              "      <td>Branch 3</td>\n",
              "      <td>Product C</td>\n",
              "      <td>270</td>\n",
              "      <td>2024-01-12</td>\n",
              "    </tr>\n",
              "  </tbody>\n",
              "</table>\n",
              "</div>\n",
              "    <div class=\"colab-df-buttons\">\n",
              "\n",
              "  <div class=\"colab-df-container\">\n",
              "    <button class=\"colab-df-convert\" onclick=\"convertToInteractive('df-42a8b880-f5a6-4862-bf7f-29393c682bc2')\"\n",
              "            title=\"Convert this dataframe to an interactive table.\"\n",
              "            style=\"display:none;\">\n",
              "\n",
              "  <svg xmlns=\"http://www.w3.org/2000/svg\" height=\"24px\" viewBox=\"0 -960 960 960\">\n",
              "    <path d=\"M120-120v-720h720v720H120Zm60-500h600v-160H180v160Zm220 220h160v-160H400v160Zm0 220h160v-160H400v160ZM180-400h160v-160H180v160Zm440 0h160v-160H620v160ZM180-180h160v-160H180v160Zm440 0h160v-160H620v160Z\"/>\n",
              "  </svg>\n",
              "    </button>\n",
              "\n",
              "  <style>\n",
              "    .colab-df-container {\n",
              "      display:flex;\n",
              "      gap: 12px;\n",
              "    }\n",
              "\n",
              "    .colab-df-convert {\n",
              "      background-color: #E8F0FE;\n",
              "      border: none;\n",
              "      border-radius: 50%;\n",
              "      cursor: pointer;\n",
              "      display: none;\n",
              "      fill: #1967D2;\n",
              "      height: 32px;\n",
              "      padding: 0 0 0 0;\n",
              "      width: 32px;\n",
              "    }\n",
              "\n",
              "    .colab-df-convert:hover {\n",
              "      background-color: #E2EBFA;\n",
              "      box-shadow: 0px 1px 2px rgba(60, 64, 67, 0.3), 0px 1px 3px 1px rgba(60, 64, 67, 0.15);\n",
              "      fill: #174EA6;\n",
              "    }\n",
              "\n",
              "    .colab-df-buttons div {\n",
              "      margin-bottom: 4px;\n",
              "    }\n",
              "\n",
              "    [theme=dark] .colab-df-convert {\n",
              "      background-color: #3B4455;\n",
              "      fill: #D2E3FC;\n",
              "    }\n",
              "\n",
              "    [theme=dark] .colab-df-convert:hover {\n",
              "      background-color: #434B5C;\n",
              "      box-shadow: 0px 1px 3px 1px rgba(0, 0, 0, 0.15);\n",
              "      filter: drop-shadow(0px 1px 2px rgba(0, 0, 0, 0.3));\n",
              "      fill: #FFFFFF;\n",
              "    }\n",
              "  </style>\n",
              "\n",
              "    <script>\n",
              "      const buttonEl =\n",
              "        document.querySelector('#df-42a8b880-f5a6-4862-bf7f-29393c682bc2 button.colab-df-convert');\n",
              "      buttonEl.style.display =\n",
              "        google.colab.kernel.accessAllowed ? 'block' : 'none';\n",
              "\n",
              "      async function convertToInteractive(key) {\n",
              "        const element = document.querySelector('#df-42a8b880-f5a6-4862-bf7f-29393c682bc2');\n",
              "        const dataTable =\n",
              "          await google.colab.kernel.invokeFunction('convertToInteractive',\n",
              "                                                    [key], {});\n",
              "        if (!dataTable) return;\n",
              "\n",
              "        const docLinkHtml = 'Like what you see? Visit the ' +\n",
              "          '<a target=\"_blank\" href=https://colab.research.google.com/notebooks/data_table.ipynb>data table notebook</a>'\n",
              "          + ' to learn more about interactive tables.';\n",
              "        element.innerHTML = '';\n",
              "        dataTable['output_type'] = 'display_data';\n",
              "        await google.colab.output.renderOutput(dataTable, element);\n",
              "        const docLink = document.createElement('div');\n",
              "        docLink.innerHTML = docLinkHtml;\n",
              "        element.appendChild(docLink);\n",
              "      }\n",
              "    </script>\n",
              "  </div>\n",
              "\n",
              "\n",
              "<div id=\"df-acc245aa-99a5-4ebf-82eb-7e595de0daef\">\n",
              "  <button class=\"colab-df-quickchart\" onclick=\"quickchart('df-acc245aa-99a5-4ebf-82eb-7e595de0daef')\"\n",
              "            title=\"Suggest charts\"\n",
              "            style=\"display:none;\">\n",
              "\n",
              "<svg xmlns=\"http://www.w3.org/2000/svg\" height=\"24px\"viewBox=\"0 0 24 24\"\n",
              "     width=\"24px\">\n",
              "    <g>\n",
              "        <path d=\"M19 3H5c-1.1 0-2 .9-2 2v14c0 1.1.9 2 2 2h14c1.1 0 2-.9 2-2V5c0-1.1-.9-2-2-2zM9 17H7v-7h2v7zm4 0h-2V7h2v10zm4 0h-2v-4h2v4z\"/>\n",
              "    </g>\n",
              "</svg>\n",
              "  </button>\n",
              "\n",
              "<style>\n",
              "  .colab-df-quickchart {\n",
              "      --bg-color: #E8F0FE;\n",
              "      --fill-color: #1967D2;\n",
              "      --hover-bg-color: #E2EBFA;\n",
              "      --hover-fill-color: #174EA6;\n",
              "      --disabled-fill-color: #AAA;\n",
              "      --disabled-bg-color: #DDD;\n",
              "  }\n",
              "\n",
              "  [theme=dark] .colab-df-quickchart {\n",
              "      --bg-color: #3B4455;\n",
              "      --fill-color: #D2E3FC;\n",
              "      --hover-bg-color: #434B5C;\n",
              "      --hover-fill-color: #FFFFFF;\n",
              "      --disabled-bg-color: #3B4455;\n",
              "      --disabled-fill-color: #666;\n",
              "  }\n",
              "\n",
              "  .colab-df-quickchart {\n",
              "    background-color: var(--bg-color);\n",
              "    border: none;\n",
              "    border-radius: 50%;\n",
              "    cursor: pointer;\n",
              "    display: none;\n",
              "    fill: var(--fill-color);\n",
              "    height: 32px;\n",
              "    padding: 0;\n",
              "    width: 32px;\n",
              "  }\n",
              "\n",
              "  .colab-df-quickchart:hover {\n",
              "    background-color: var(--hover-bg-color);\n",
              "    box-shadow: 0 1px 2px rgba(60, 64, 67, 0.3), 0 1px 3px 1px rgba(60, 64, 67, 0.15);\n",
              "    fill: var(--button-hover-fill-color);\n",
              "  }\n",
              "\n",
              "  .colab-df-quickchart-complete:disabled,\n",
              "  .colab-df-quickchart-complete:disabled:hover {\n",
              "    background-color: var(--disabled-bg-color);\n",
              "    fill: var(--disabled-fill-color);\n",
              "    box-shadow: none;\n",
              "  }\n",
              "\n",
              "  .colab-df-spinner {\n",
              "    border: 2px solid var(--fill-color);\n",
              "    border-color: transparent;\n",
              "    border-bottom-color: var(--fill-color);\n",
              "    animation:\n",
              "      spin 1s steps(1) infinite;\n",
              "  }\n",
              "\n",
              "  @keyframes spin {\n",
              "    0% {\n",
              "      border-color: transparent;\n",
              "      border-bottom-color: var(--fill-color);\n",
              "      border-left-color: var(--fill-color);\n",
              "    }\n",
              "    20% {\n",
              "      border-color: transparent;\n",
              "      border-left-color: var(--fill-color);\n",
              "      border-top-color: var(--fill-color);\n",
              "    }\n",
              "    30% {\n",
              "      border-color: transparent;\n",
              "      border-left-color: var(--fill-color);\n",
              "      border-top-color: var(--fill-color);\n",
              "      border-right-color: var(--fill-color);\n",
              "    }\n",
              "    40% {\n",
              "      border-color: transparent;\n",
              "      border-right-color: var(--fill-color);\n",
              "      border-top-color: var(--fill-color);\n",
              "    }\n",
              "    60% {\n",
              "      border-color: transparent;\n",
              "      border-right-color: var(--fill-color);\n",
              "    }\n",
              "    80% {\n",
              "      border-color: transparent;\n",
              "      border-right-color: var(--fill-color);\n",
              "      border-bottom-color: var(--fill-color);\n",
              "    }\n",
              "    90% {\n",
              "      border-color: transparent;\n",
              "      border-bottom-color: var(--fill-color);\n",
              "    }\n",
              "  }\n",
              "</style>\n",
              "\n",
              "  <script>\n",
              "    async function quickchart(key) {\n",
              "      const quickchartButtonEl =\n",
              "        document.querySelector('#' + key + ' button');\n",
              "      quickchartButtonEl.disabled = true;  // To prevent multiple clicks.\n",
              "      quickchartButtonEl.classList.add('colab-df-spinner');\n",
              "      try {\n",
              "        const charts = await google.colab.kernel.invokeFunction(\n",
              "            'suggestCharts', [key], {});\n",
              "      } catch (error) {\n",
              "        console.error('Error during call to suggestCharts:', error);\n",
              "      }\n",
              "      quickchartButtonEl.classList.remove('colab-df-spinner');\n",
              "      quickchartButtonEl.classList.add('colab-df-quickchart-complete');\n",
              "    }\n",
              "    (() => {\n",
              "      let quickchartButtonEl =\n",
              "        document.querySelector('#df-acc245aa-99a5-4ebf-82eb-7e595de0daef button');\n",
              "      quickchartButtonEl.style.display =\n",
              "        google.colab.kernel.accessAllowed ? 'block' : 'none';\n",
              "    })();\n",
              "  </script>\n",
              "</div>\n",
              "\n",
              "  <div id=\"id_ebc8fc4f-3233-4f48-8fb7-550150e09b38\">\n",
              "    <style>\n",
              "      .colab-df-generate {\n",
              "        background-color: #E8F0FE;\n",
              "        border: none;\n",
              "        border-radius: 50%;\n",
              "        cursor: pointer;\n",
              "        display: none;\n",
              "        fill: #1967D2;\n",
              "        height: 32px;\n",
              "        padding: 0 0 0 0;\n",
              "        width: 32px;\n",
              "      }\n",
              "\n",
              "      .colab-df-generate:hover {\n",
              "        background-color: #E2EBFA;\n",
              "        box-shadow: 0px 1px 2px rgba(60, 64, 67, 0.3), 0px 1px 3px 1px rgba(60, 64, 67, 0.15);\n",
              "        fill: #174EA6;\n",
              "      }\n",
              "\n",
              "      [theme=dark] .colab-df-generate {\n",
              "        background-color: #3B4455;\n",
              "        fill: #D2E3FC;\n",
              "      }\n",
              "\n",
              "      [theme=dark] .colab-df-generate:hover {\n",
              "        background-color: #434B5C;\n",
              "        box-shadow: 0px 1px 3px 1px rgba(0, 0, 0, 0.15);\n",
              "        filter: drop-shadow(0px 1px 2px rgba(0, 0, 0, 0.3));\n",
              "        fill: #FFFFFF;\n",
              "      }\n",
              "    </style>\n",
              "    <button class=\"colab-df-generate\" onclick=\"generateWithVariable('combined_data_of_3_formats')\"\n",
              "            title=\"Generate code using this dataframe.\"\n",
              "            style=\"display:none;\">\n",
              "\n",
              "  <svg xmlns=\"http://www.w3.org/2000/svg\" height=\"24px\"viewBox=\"0 0 24 24\"\n",
              "       width=\"24px\">\n",
              "    <path d=\"M7,19H8.4L18.45,9,17,7.55,7,17.6ZM5,21V16.75L18.45,3.32a2,2,0,0,1,2.83,0l1.4,1.43a1.91,1.91,0,0,1,.58,1.4,1.91,1.91,0,0,1-.58,1.4L9.25,21ZM18.45,9,17,7.55Zm-12,3A5.31,5.31,0,0,0,4.9,8.1,5.31,5.31,0,0,0,1,6.5,5.31,5.31,0,0,0,4.9,4.9,5.31,5.31,0,0,0,6.5,1,5.31,5.31,0,0,0,8.1,4.9,5.31,5.31,0,0,0,12,6.5,5.46,5.46,0,0,0,6.5,12Z\"/>\n",
              "  </svg>\n",
              "    </button>\n",
              "    <script>\n",
              "      (() => {\n",
              "      const buttonEl =\n",
              "        document.querySelector('#id_ebc8fc4f-3233-4f48-8fb7-550150e09b38 button.colab-df-generate');\n",
              "      buttonEl.style.display =\n",
              "        google.colab.kernel.accessAllowed ? 'block' : 'none';\n",
              "\n",
              "      buttonEl.onclick = () => {\n",
              "        google.colab.notebook.generateWithVariable('combined_data_of_3_formats');\n",
              "      }\n",
              "      })();\n",
              "    </script>\n",
              "  </div>\n",
              "\n",
              "    </div>\n",
              "  </div>\n"
            ],
            "application/vnd.google.colaboratory.intrinsic+json": {
              "type": "dataframe",
              "variable_name": "combined_data_of_3_formats",
              "summary": "{\n  \"name\": \"combined_data_of_3_formats\",\n  \"rows\": 9,\n  \"fields\": [\n    {\n      \"column\": \"Branch\",\n      \"properties\": {\n        \"dtype\": \"category\",\n        \"num_unique_values\": 3,\n        \"samples\": [\n          \"Branch 1\",\n          \"Branch 2\",\n          \"Branch 3\"\n        ],\n        \"semantic_type\": \"\",\n        \"description\": \"\"\n      }\n    },\n    {\n      \"column\": \"Product\",\n      \"properties\": {\n        \"dtype\": \"category\",\n        \"num_unique_values\": 3,\n        \"samples\": [\n          \"Product A\",\n          \"Product B\",\n          \"Product C\"\n        ],\n        \"semantic_type\": \"\",\n        \"description\": \"\"\n      }\n    },\n    {\n      \"column\": \"Sales\",\n      \"properties\": {\n        \"dtype\": \"number\",\n        \"std\": 41,\n        \"min\": 150,\n        \"max\": 270,\n        \"num_unique_values\": 9,\n        \"samples\": [\n          210,\n          200,\n          260\n        ],\n        \"semantic_type\": \"\",\n        \"description\": \"\"\n      }\n    },\n    {\n      \"column\": \"Date\",\n      \"properties\": {\n        \"dtype\": \"date\",\n        \"min\": \"2024-01-10 00:00:00\",\n        \"max\": \"2024-01-12 00:00:00\",\n        \"num_unique_values\": 3,\n        \"samples\": [\n          \"2024-01-10 00:00:00\",\n          \"2024-01-11 00:00:00\",\n          \"2024-01-12 00:00:00\"\n        ],\n        \"semantic_type\": \"\",\n        \"description\": \"\"\n      }\n    }\n  ]\n}"
            }
          },
          "metadata": {},
          "execution_count": 12
        }
      ]
    },
    {
      "cell_type": "code",
      "source": [
        "combined_data_of_3_formats.to_csv('combined_data.csv', index=False)"
      ],
      "metadata": {
        "id": "SuZD6fqQUBlY"
      },
      "execution_count": null,
      "outputs": []
    }
  ]
}