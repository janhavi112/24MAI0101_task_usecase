{
 "cells": [
  {
   "cell_type": "code",
   "execution_count": null,
   "metadata": {},
   "outputs": [],
   "source": [
    "import pandas as pd\n",
    "import re\n",
    "from textblob import TextBlob\n",
    "import matplotlib.pyplot as plt\n",
    "import seaborn as sns\n",
    "\n",
    "# Load the dataset, specifying the engine\n",
    "df = pd.read_excel(r\"C:\\Users\\Lenovo\\Downloads\\redmi6.xls\", engine='xlrd')\n",
    "\n",
    "# Data Cleaning\n",
    "def clean_comment(comment):\n",
    "    comment = re.sub(r\"http\\S+|www\\S+|@\\w+|#\\w+\", '', comment)  # Remove URLs, mentions, hashtags\n",
    "    comment = re.sub(r'[^A-Za-z\\s]', '', comment)  # Remove non-alphabetic characters\n",
    "    return str(TextBlob(comment).correct())\n",
    "\n",
    "df['Comment'] = df['Comment'].apply(clean_comment)\n",
    "\n",
    "# Drop rows with missing essential data (e.g., Rating or Comment)\n",
    "df.dropna(subset=['Rating', 'Comment'], inplace=True)\n",
    "\n",
    "# Sentiment Analysis\n",
    "def get_sentiment(comment):\n",
    "    analysis = TextBlob(comment)\n",
    "    if analysis.sentiment.polarity > 0:\n",
    "        return 'Positive'\n",
    "    elif analysis.sentiment.polarity == 0:\n",
    "        return 'Neutral'\n",
    "    else:\n",
    "        return 'Negative'\n",
    "\n",
    "df['Sentiment'] = df['Comment'].apply(get_sentiment)\n",
    "\n",
    "# Trend Analysis\n",
    "df['Date'] = pd.to_datetime(df['Date'])\n",
    "trend_df = df.groupby('Date').agg({'Sentiment': 'value_counts', 'Rating': 'mean'}).unstack()\n",
    "channel_df = df.groupby('Feedback Channel').agg({\n",
    "    'Rating': 'mean',\n",
    "    'Sentiment': lambda x: x.value_counts().to_dict()\n",
    "})\n",
    "\n",
    "# Data Visualization\n",
    "sns.countplot(data=df, x='Sentiment')\n",
    "plt.title(\"Sentiment Distribution\")\n",
    "plt.show()\n",
    "\n",
    "channel_avg_rating = df.groupby('Feedback Channel')['Rating'].mean()\n",
    "channel_avg_rating.plot(kind='bar')\n",
    "plt.title(\"Average Rating by Feedback Channel\")\n",
    "plt.show()\n",
    "\n",
    "df.groupby('Date')['Sentiment'].value_counts().unstack().plot(kind='line')\n",
    "plt.title(\"Feedback Trends Over Time\")\n",
    "plt.show()\n"
   ]
  }
 ],
 "metadata": {
  "kernelspec": {
   "display_name": "Python 3",
   "language": "python",
   "name": "python3"
  },
  "language_info": {
   "codemirror_mode": {
    "name": "ipython",
    "version": 3
   },
   "file_extension": ".py",
   "mimetype": "text/x-python",
   "name": "python",
   "nbconvert_exporter": "python",
   "pygments_lexer": "ipython3",
   "version": "3.12.4"
  }
 },
 "nbformat": 4,
 "nbformat_minor": 2
}
